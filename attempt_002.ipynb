{
 "cells": [
  {
   "cell_type": "markdown",
   "metadata": {},
   "source": [
    "##### Delete folder before starting"
   ]
  },
  {
   "cell_type": "code",
   "execution_count": 1,
   "metadata": {},
   "outputs": [],
   "source": [
    "# i asked gpt to write this code\n",
    "\n",
    "import shutil\n",
    "import os\n",
    "\n",
    "def delete_folder(folder_path):\n",
    "    if os.path.exists(folder_path):\n",
    "        try:\n",
    "            shutil.rmtree(folder_path)\n",
    "            print(f\"Folder '{folder_path}' deleted successfully.\")\n",
    "        except OSError as e:\n",
    "            print(f\"Error: {e}\")\n",
    "    else:\n",
    "        print(f\"Folder '{folder_path}' does not exist.\")"
   ]
  },
  {
   "cell_type": "code",
   "execution_count": 2,
   "metadata": {},
   "outputs": [
    {
     "name": "stdout",
     "output_type": "stream",
     "text": [
      "Folder 'Apple/train' deleted successfully.\n",
      "Folder 'Apple/val' deleted successfully.\n"
     ]
    }
   ],
   "source": [
    "# train\n",
    "folder_to_delete = \"Apple/train\"\n",
    "delete_folder(folder_to_delete)\n",
    "\n",
    "# val\n",
    "folder_to_delete = \"Apple/val\"\n",
    "delete_folder(folder_to_delete)"
   ]
  },
  {
   "cell_type": "markdown",
   "metadata": {},
   "source": [
    "# Code"
   ]
  },
  {
   "cell_type": "code",
   "execution_count": 3,
   "metadata": {},
   "outputs": [
    {
     "name": "stdout",
     "output_type": "stream",
     "text": [
      "['AlternariaBoltch', 'AppleScab', 'BlackRot', 'CedarAppleRust', 'Healthy', 'Rust']\n"
     ]
    }
   ],
   "source": [
    "import os \n",
    "dir = 'Apple' # this read fodler\n",
    "print(os.listdir(dir))"
   ]
  },
  {
   "cell_type": "code",
   "execution_count": 4,
   "metadata": {},
   "outputs": [
    {
     "data": {
      "text/plain": [
       "['AlternariaBoltch',\n",
       " 'AppleScab',\n",
       " 'BlackRot',\n",
       " 'CedarAppleRust',\n",
       " 'Healthy',\n",
       " 'Rust']"
      ]
     },
     "execution_count": 4,
     "metadata": {},
     "output_type": "execute_result"
    }
   ],
   "source": [
    "# labels from folder in directory yoooo\n",
    "labels = os.listdir(dir)\n",
    "labels"
   ]
  },
  {
   "cell_type": "code",
   "execution_count": 5,
   "metadata": {},
   "outputs": [],
   "source": [
    "# import\n",
    "import matplotlib.pyplot as plt\n",
    "import numpy as np\n",
    "import matplotlib.image as mpimg\n",
    "import scipy as sp\n",
    "import itertools\n",
    "import zipfile\n",
    "import cv2\n",
    "\n",
    "import tensorflow as tf\n",
    "from tensorflow.keras.models import Sequential\n",
    "from tensorflow.keras.layers import Dense, Flatten, GlobalAveragePooling2D, Conv2D, MaxPooling2D\n",
    "from tensorflow.keras.preprocessing.image import ImageDataGenerator\n",
    "from tensorflow.keras.callbacks import ModelCheckpoint, EarlyStopping\n",
    "from tensorflow.keras.optimizers import RMSprop\n",
    "\n",
    "# m8 delete later, should check on it"
   ]
  },
  {
   "cell_type": "code",
   "execution_count": 6,
   "metadata": {},
   "outputs": [],
   "source": [
    "'''\n",
    "Abbreviation (so i don't need to write long name)\n",
    "\n",
    "AlternariaBoltch = boltch\n",
    "AppleScab = scab\n",
    "BlackRot = brot\n",
    "CedarAppleRust = carust\n",
    "Healthy = healthy\n",
    "Rust = rust\n",
    "'''\n",
    "\n",
    "boltch_dir = os.path.join(dir, 'AlternariaBoltch')\n",
    "scab_dir = os.path.join(dir, 'AppleScab')\n",
    "brot_dir = os.path.join(dir, 'BlackRot')\n",
    "carust_dir = os.path.join(dir, 'CedarAppleRust')\n",
    "healthy_dir = os.path.join(dir, 'Healthy')\n",
    "rust_dir = os.path.join(dir, 'Rust')\n",
    "\n",
    "boltch = os.listdir(boltch_dir)\n",
    "scab = os.listdir(scab_dir)\n",
    "brot = os.listdir(brot_dir)\n",
    "carust = os.listdir(carust_dir)\n",
    "healthy = os.listdir(healthy_dir)\n",
    "rust = os.listdir(rust_dir)"
   ]
  },
  {
   "cell_type": "code",
   "execution_count": 7,
   "metadata": {},
   "outputs": [],
   "source": [
    "import random\n",
    "import shutil\n",
    "\n",
    "# Function split\n",
    "def split_data(src, train_dst, val_dst, split_ratio=0.6):\n",
    "    files = os.listdir(src)\n",
    "    random.shuffle(files)\n",
    "\n",
    "    split_index = int(len(files) * split_ratio)\n",
    "\n",
    "    train_files = files[:split_index]\n",
    "    val_files = files[split_index:]\n",
    "\n",
    "    for file in train_files:\n",
    "        shutil.copy(os.path.join(src, file), os.path.join(train_dst, file))\n",
    "\n",
    "    for file in val_files:\n",
    "        shutil.copy(os.path.join(src, file), os.path.join(val_dst, file))"
   ]
  },
  {
   "cell_type": "code",
   "execution_count": 8,
   "metadata": {},
   "outputs": [],
   "source": [
    "train_dir = os.path.join(dir, 'train')\n",
    "val_dir = os.path.join(dir, 'val')\n",
    "\n",
    "# only use it once\n",
    "os.makedirs(train_dir, exist_ok=True)\n",
    "os.makedirs(val_dir, exist_ok=True)"
   ]
  },
  {
   "cell_type": "code",
   "execution_count": 9,
   "metadata": {},
   "outputs": [],
   "source": [
    "# only use it once\n",
    "for i in labels:\n",
    "    os.makedirs(os.path.join(train_dir, i), exist_ok=True)\n",
    "    os.makedirs(os.path.join(val_dir, i), exist_ok=True)"
   ]
  },
  {
   "cell_type": "code",
   "execution_count": 10,
   "metadata": {},
   "outputs": [],
   "source": [
    "# Splitting the data, i hope someone made a better code for this :)\n",
    "split_data(boltch_dir, os.path.join(train_dir, 'AlternariaBoltch'), os.path.join(val_dir, 'AlternariaBoltch'))\n",
    "split_data(scab_dir, os.path.join(train_dir, 'AppleScab'), os.path.join(val_dir, 'AppleScab'))\n",
    "split_data(brot_dir, os.path.join(train_dir, 'BlackRot'), os.path.join(val_dir, 'BlackRot'))\n",
    "split_data(carust_dir, os.path.join(train_dir, 'CedarAppleRust'), os.path.join(val_dir, 'CedarAppleRust'))\n",
    "split_data(healthy_dir, os.path.join(train_dir, 'Healthy'), os.path.join(val_dir, 'Healthy'))\n",
    "split_data(rust_dir, os.path.join(train_dir, 'Rust'), os.path.join(val_dir, 'Rust'))"
   ]
  },
  {
   "cell_type": "code",
   "execution_count": 11,
   "metadata": {},
   "outputs": [],
   "source": [
    "# ImageDataGenerator\n",
    "train_gen = ImageDataGenerator(rescale=1.0/256.0, \n",
    "                            zoom_range=0.4, \n",
    "                            rotation_range=30,\n",
    "                            horizontal_flip=True, \n",
    "                            vertical_flip=True, \n",
    "                            shear_range=0.3, \n",
    "                            fill_mode='nearest',\n",
    "                            width_shift_range=0.2, \n",
    "                            height_shift_range=0.2, \n",
    "                            validation_split=0.2)\n",
    "val_gen = ImageDataGenerator(rescale=1.0/256.0)"
   ]
  },
  {
   "cell_type": "code",
   "execution_count": 12,
   "metadata": {},
   "outputs": [
    {
     "name": "stdout",
     "output_type": "stream",
     "text": [
      "Found 1702 images belonging to 6 classes.\n",
      "Found 1139 images belonging to 6 classes.\n"
     ]
    }
   ],
   "source": [
    "train_dataset = train_gen.flow_from_directory(train_dir, \n",
    "                                            target_size=(256, 256), \n",
    "                                            color_mode=\"rgb\",\n",
    "                                            class_mode='binary', \n",
    "                                            batch_size=32)\n",
    "val_dataset = val_gen.flow_from_directory(val_dir, \n",
    "                                        target_size=(256, 256), \n",
    "                                        color_mode=\"rgb\",\n",
    "                                        class_mode='binary', \n",
    "                                        batch_size=32)"
   ]
  },
  {
   "cell_type": "code",
   "execution_count": 13,
   "metadata": {},
   "outputs": [
    {
     "name": "stdout",
     "output_type": "stream",
     "text": [
      "{'AlternariaBoltch': 0, 'AppleScab': 1, 'BlackRot': 2, 'CedarAppleRust': 3, 'Healthy': 4, 'Rust': 5}\n",
      "{'AlternariaBoltch': 0, 'AppleScab': 1, 'BlackRot': 2, 'CedarAppleRust': 3, 'Healthy': 4, 'Rust': 5}\n"
     ]
    }
   ],
   "source": [
    "print(train_dataset.class_indices)\n",
    "print(val_dataset.class_indices)"
   ]
  },
  {
   "cell_type": "code",
   "execution_count": 14,
   "metadata": {},
   "outputs": [],
   "source": [
    "NUM_TRAIN_DATA = train_dataset.n\n",
    "NUM_VALID_DATA = val_dataset.n"
   ]
  },
  {
   "cell_type": "code",
   "execution_count": 15,
   "metadata": {},
   "outputs": [],
   "source": [
    "model = tf.keras.models.Sequential([\n",
    "    tf.keras.layers.Conv2D(filters=32, activation='relu', input_shape=(256, 256, 3), padding='same', kernel_size=(3, 3)),\n",
    "    tf.keras.layers.Conv2D(filters=32, activation='relu', padding='same', kernel_size=(3, 3)),\n",
    "    tf.keras.layers.MaxPool2D(pool_size=(2,2)),\n",
    "    tf.keras.layers.Conv2D(filters=64, activation='relu', padding='same', kernel_size=(3, 3)),\n",
    "    tf.keras.layers.Conv2D(filters=64, activation='relu', padding='same', kernel_size=(3, 3)),\n",
    "    tf.keras.layers.MaxPool2D(pool_size=(2,2)),\n",
    "    tf.keras.layers.Conv2D(filters=128, activation='relu', padding='same', kernel_size=(3, 3)),\n",
    "    tf.keras.layers.Conv2D(filters=128, activation='relu', padding='same', kernel_size=(3, 3)),\n",
    "    tf.keras.layers.MaxPool2D(pool_size=(2,2)),\n",
    "    tf.keras.layers.Conv2D(filters=256, activation='relu', padding='same', kernel_size=(3, 3)),\n",
    "    tf.keras.layers.Conv2D(filters=256, activation='relu', padding='same', kernel_size=(3, 3)),\n",
    "    tf.keras.layers.MaxPool2D(pool_size=(2,2)),\n",
    "    # Flatten\n",
    "    tf.keras.layers.Flatten(),\n",
    "    tf.keras.layers.Dense(units=256, activation='relu'),\n",
    "    tf.keras.layers.Dropout(0.1),\n",
    "    tf.keras.layers.Dense(units=128, activation='relu'),\n",
    "    tf.keras.layers.Dense(units=1, activation='softmax'),\n",
    "])\n",
    "\n",
    "monitor = EarlyStopping(monitor='val_accuracy',\n",
    "                        patience=2,\n",
    "                        verbose=1,\n",
    "                        mode='max',\n",
    "                        restore_best_weights=True)"
   ]
  },
  {
   "cell_type": "code",
   "execution_count": 16,
   "metadata": {},
   "outputs": [
    {
     "name": "stdout",
     "output_type": "stream",
     "text": [
      "Model: \"sequential\"\n",
      "_________________________________________________________________\n",
      " Layer (type)                Output Shape              Param #   \n",
      "=================================================================\n",
      " conv2d (Conv2D)             (None, 256, 256, 32)      896       \n",
      "                                                                 \n",
      " conv2d_1 (Conv2D)           (None, 256, 256, 32)      9248      \n",
      "                                                                 \n",
      " max_pooling2d (MaxPooling2D  (None, 128, 128, 32)     0         \n",
      " )                                                               \n",
      "                                                                 \n",
      " conv2d_2 (Conv2D)           (None, 128, 128, 64)      18496     \n",
      "                                                                 \n",
      " conv2d_3 (Conv2D)           (None, 128, 128, 64)      36928     \n",
      "                                                                 \n",
      " max_pooling2d_1 (MaxPooling  (None, 64, 64, 64)       0         \n",
      " 2D)                                                             \n",
      "                                                                 \n"
     ]
    },
    {
     "name": "stdout",
     "output_type": "stream",
     "text": [
      " conv2d_4 (Conv2D)           (None, 64, 64, 128)       73856     \n",
      "                                                                 \n",
      " conv2d_5 (Conv2D)           (None, 64, 64, 128)       147584    \n",
      "                                                                 \n",
      " max_pooling2d_2 (MaxPooling  (None, 32, 32, 128)      0         \n",
      " 2D)                                                             \n",
      "                                                                 \n",
      " conv2d_6 (Conv2D)           (None, 32, 32, 256)       295168    \n",
      "                                                                 \n",
      " conv2d_7 (Conv2D)           (None, 32, 32, 256)       590080    \n",
      "                                                                 \n",
      " max_pooling2d_3 (MaxPooling  (None, 16, 16, 256)      0         \n",
      " 2D)                                                             \n",
      "                                                                 \n",
      " flatten (Flatten)           (None, 65536)             0         \n",
      "                                                                 \n",
      " dense (Dense)               (None, 256)               16777472  \n",
      "                                                                 \n",
      " dropout (Dropout)           (None, 256)               0         \n",
      "                                                                 \n",
      " dense_1 (Dense)             (None, 128)               32896     \n",
      "                                                                 \n",
      " dense_2 (Dense)             (None, 1)                 129       \n",
      "                                                                 \n",
      "=================================================================\n",
      "Total params: 17,982,753\n",
      "Trainable params: 17,982,753\n",
      "Non-trainable params: 0\n",
      "_________________________________________________________________\n"
     ]
    }
   ],
   "source": [
    "model.compile(optimizer=RMSprop(learning_rate=0.001),\n",
    "              loss='categorical_crossentropy',\n",
    "              metrics=['accuracy'])\n",
    "model.summary()"
   ]
  },
  {
   "cell_type": "code",
   "execution_count": 17,
   "metadata": {},
   "outputs": [],
   "source": [
    "BATCH_SIZE = 32\n",
    "EPOCHS = 35"
   ]
  },
  {
   "cell_type": "code",
   "execution_count": 18,
   "metadata": {},
   "outputs": [
    {
     "name": "stdout",
     "output_type": "stream",
     "text": [
      "Epoch 1/35\n",
      "53/53 [==============================] - 201s 4s/step - loss: 0.0000e+00 - accuracy: 0.1760 - val_loss: 0.0000e+00 - val_accuracy: 0.1562\n",
      "Epoch 2/35\n",
      "53/53 [==============================] - 193s 4s/step - loss: 0.0000e+00 - accuracy: 0.1772 - val_loss: 0.0000e+00 - val_accuracy: 0.1813\n",
      "Epoch 3/35\n",
      "53/53 [==============================] - 198s 4s/step - loss: 0.0000e+00 - accuracy: 0.1772 - val_loss: 0.0000e+00 - val_accuracy: 0.1750\n",
      "Epoch 4/35\n",
      "53/53 [==============================] - 200s 4s/step - loss: 0.0000e+00 - accuracy: 0.1784 - val_loss: 0.0000e+00 - val_accuracy: 0.1625\n",
      "Epoch 5/35\n",
      "53/53 [==============================] - 200s 4s/step - loss: 0.0000e+00 - accuracy: 0.1778 - val_loss: 0.0000e+00 - val_accuracy: 0.1625\n",
      "Epoch 6/35\n",
      "53/53 [==============================] - 200s 4s/step - loss: 0.0000e+00 - accuracy: 0.1790 - val_loss: 0.0000e+00 - val_accuracy: 0.1750\n",
      "Epoch 7/35\n",
      "53/53 [==============================] - 199s 4s/step - loss: 0.0000e+00 - accuracy: 0.1778 - val_loss: 0.0000e+00 - val_accuracy: 0.1813\n",
      "Epoch 8/35\n",
      "53/53 [==============================] - 198s 4s/step - loss: 0.0000e+00 - accuracy: 0.1778 - val_loss: 0.0000e+00 - val_accuracy: 0.2000\n",
      "Epoch 9/35\n",
      "53/53 [==============================] - 196s 4s/step - loss: 0.0000e+00 - accuracy: 0.1778 - val_loss: 0.0000e+00 - val_accuracy: 0.1813\n",
      "Epoch 10/35\n",
      "53/53 [==============================] - 197s 4s/step - loss: 0.0000e+00 - accuracy: 0.1772 - val_loss: 0.0000e+00 - val_accuracy: 0.1500\n",
      "Epoch 11/35\n",
      "53/53 [==============================] - 200s 4s/step - loss: 0.0000e+00 - accuracy: 0.1754 - val_loss: 0.0000e+00 - val_accuracy: 0.1750\n",
      "Epoch 12/35\n",
      "53/53 [==============================] - 199s 4s/step - loss: 0.0000e+00 - accuracy: 0.1772 - val_loss: 0.0000e+00 - val_accuracy: 0.2688\n",
      "Epoch 13/35\n",
      "53/53 [==============================] - 198s 4s/step - loss: 0.0000e+00 - accuracy: 0.1784 - val_loss: 0.0000e+00 - val_accuracy: 0.1875\n",
      "Epoch 14/35\n",
      "53/53 [==============================] - 201s 4s/step - loss: 0.0000e+00 - accuracy: 0.1760 - val_loss: 0.0000e+00 - val_accuracy: 0.2500\n",
      "Epoch 15/35\n",
      "53/53 [==============================] - 196s 4s/step - loss: 0.0000e+00 - accuracy: 0.1772 - val_loss: 0.0000e+00 - val_accuracy: 0.1688\n",
      "Epoch 16/35\n",
      "53/53 [==============================] - 199s 4s/step - loss: 0.0000e+00 - accuracy: 0.1790 - val_loss: 0.0000e+00 - val_accuracy: 0.1750\n",
      "Epoch 17/35\n",
      "53/53 [==============================] - 198s 4s/step - loss: 0.0000e+00 - accuracy: 0.1772 - val_loss: 0.0000e+00 - val_accuracy: 0.1625\n",
      "Epoch 18/35\n",
      "53/53 [==============================] - 200s 4s/step - loss: 0.0000e+00 - accuracy: 0.1772 - val_loss: 0.0000e+00 - val_accuracy: 0.1625\n",
      "Epoch 19/35\n",
      "53/53 [==============================] - 197s 4s/step - loss: 0.0000e+00 - accuracy: 0.1766 - val_loss: 0.0000e+00 - val_accuracy: 0.2125\n",
      "Epoch 20/35\n",
      "44/53 [=======================>......] - ETA: 33s - loss: 0.0000e+00 - accuracy: 0.1768"
     ]
    },
    {
     "ename": "KeyboardInterrupt",
     "evalue": "",
     "output_type": "error",
     "traceback": [
      "\u001b[1;31m---------------------------------------------------------------------------\u001b[0m",
      "\u001b[1;31mKeyboardInterrupt\u001b[0m                         Traceback (most recent call last)",
      "\u001b[1;32mc:\\Users\\ageng\\Deep Learning\\plant-disease-recognition-12345\\attempt_002.ipynb Cell 20\u001b[0m line \u001b[0;36m1\n\u001b[1;32m----> <a href='vscode-notebook-cell:/c%3A/Users/ageng/Deep%20Learning/plant-disease-recognition-12345/attempt_002.ipynb#X25sZmlsZQ%3D%3D?line=0'>1</a>\u001b[0m history \u001b[39m=\u001b[39m model\u001b[39m.\u001b[39;49mfit(train_dataset, \n\u001b[0;32m      <a href='vscode-notebook-cell:/c%3A/Users/ageng/Deep%20Learning/plant-disease-recognition-12345/attempt_002.ipynb#X25sZmlsZQ%3D%3D?line=1'>2</a>\u001b[0m                     steps_per_epoch\u001b[39m=\u001b[39;49mNUM_TRAIN_DATA\u001b[39m/\u001b[39;49m\u001b[39m/\u001b[39;49mBATCH_SIZE,\n\u001b[0;32m      <a href='vscode-notebook-cell:/c%3A/Users/ageng/Deep%20Learning/plant-disease-recognition-12345/attempt_002.ipynb#X25sZmlsZQ%3D%3D?line=2'>3</a>\u001b[0m                     validation_data\u001b[39m=\u001b[39;49mval_dataset,\n\u001b[0;32m      <a href='vscode-notebook-cell:/c%3A/Users/ageng/Deep%20Learning/plant-disease-recognition-12345/attempt_002.ipynb#X25sZmlsZQ%3D%3D?line=3'>4</a>\u001b[0m                     validation_steps\u001b[39m=\u001b[39;49m\u001b[39m5\u001b[39;49m,\n\u001b[0;32m      <a href='vscode-notebook-cell:/c%3A/Users/ageng/Deep%20Learning/plant-disease-recognition-12345/attempt_002.ipynb#X25sZmlsZQ%3D%3D?line=4'>5</a>\u001b[0m                     epochs\u001b[39m=\u001b[39;49mEPOCHS,\n\u001b[0;32m      <a href='vscode-notebook-cell:/c%3A/Users/ageng/Deep%20Learning/plant-disease-recognition-12345/attempt_002.ipynb#X25sZmlsZQ%3D%3D?line=5'>6</a>\u001b[0m                     verbose\u001b[39m=\u001b[39;49m\u001b[39m1\u001b[39;49m)\n",
      "File \u001b[1;32mc:\\Users\\ageng\\anaconda3\\envs\\tensorflow\\lib\\site-packages\\keras\\utils\\traceback_utils.py:65\u001b[0m, in \u001b[0;36mfilter_traceback.<locals>.error_handler\u001b[1;34m(*args, **kwargs)\u001b[0m\n\u001b[0;32m     63\u001b[0m filtered_tb \u001b[39m=\u001b[39m \u001b[39mNone\u001b[39;00m\n\u001b[0;32m     64\u001b[0m \u001b[39mtry\u001b[39;00m:\n\u001b[1;32m---> 65\u001b[0m     \u001b[39mreturn\u001b[39;00m fn(\u001b[39m*\u001b[39;49margs, \u001b[39m*\u001b[39;49m\u001b[39m*\u001b[39;49mkwargs)\n\u001b[0;32m     66\u001b[0m \u001b[39mexcept\u001b[39;00m \u001b[39mException\u001b[39;00m \u001b[39mas\u001b[39;00m e:\n\u001b[0;32m     67\u001b[0m     filtered_tb \u001b[39m=\u001b[39m _process_traceback_frames(e\u001b[39m.\u001b[39m__traceback__)\n",
      "File \u001b[1;32mc:\\Users\\ageng\\anaconda3\\envs\\tensorflow\\lib\\site-packages\\keras\\engine\\training.py:1564\u001b[0m, in \u001b[0;36mModel.fit\u001b[1;34m(self, x, y, batch_size, epochs, verbose, callbacks, validation_split, validation_data, shuffle, class_weight, sample_weight, initial_epoch, steps_per_epoch, validation_steps, validation_batch_size, validation_freq, max_queue_size, workers, use_multiprocessing)\u001b[0m\n\u001b[0;32m   1556\u001b[0m \u001b[39mwith\u001b[39;00m tf\u001b[39m.\u001b[39mprofiler\u001b[39m.\u001b[39mexperimental\u001b[39m.\u001b[39mTrace(\n\u001b[0;32m   1557\u001b[0m     \u001b[39m\"\u001b[39m\u001b[39mtrain\u001b[39m\u001b[39m\"\u001b[39m,\n\u001b[0;32m   1558\u001b[0m     epoch_num\u001b[39m=\u001b[39mepoch,\n\u001b[1;32m   (...)\u001b[0m\n\u001b[0;32m   1561\u001b[0m     _r\u001b[39m=\u001b[39m\u001b[39m1\u001b[39m,\n\u001b[0;32m   1562\u001b[0m ):\n\u001b[0;32m   1563\u001b[0m     callbacks\u001b[39m.\u001b[39mon_train_batch_begin(step)\n\u001b[1;32m-> 1564\u001b[0m     tmp_logs \u001b[39m=\u001b[39m \u001b[39mself\u001b[39;49m\u001b[39m.\u001b[39;49mtrain_function(iterator)\n\u001b[0;32m   1565\u001b[0m     \u001b[39mif\u001b[39;00m data_handler\u001b[39m.\u001b[39mshould_sync:\n\u001b[0;32m   1566\u001b[0m         context\u001b[39m.\u001b[39masync_wait()\n",
      "File \u001b[1;32mc:\\Users\\ageng\\anaconda3\\envs\\tensorflow\\lib\\site-packages\\tensorflow\\python\\util\\traceback_utils.py:150\u001b[0m, in \u001b[0;36mfilter_traceback.<locals>.error_handler\u001b[1;34m(*args, **kwargs)\u001b[0m\n\u001b[0;32m    148\u001b[0m filtered_tb \u001b[39m=\u001b[39m \u001b[39mNone\u001b[39;00m\n\u001b[0;32m    149\u001b[0m \u001b[39mtry\u001b[39;00m:\n\u001b[1;32m--> 150\u001b[0m   \u001b[39mreturn\u001b[39;00m fn(\u001b[39m*\u001b[39;49margs, \u001b[39m*\u001b[39;49m\u001b[39m*\u001b[39;49mkwargs)\n\u001b[0;32m    151\u001b[0m \u001b[39mexcept\u001b[39;00m \u001b[39mException\u001b[39;00m \u001b[39mas\u001b[39;00m e:\n\u001b[0;32m    152\u001b[0m   filtered_tb \u001b[39m=\u001b[39m _process_traceback_frames(e\u001b[39m.\u001b[39m__traceback__)\n",
      "File \u001b[1;32mc:\\Users\\ageng\\anaconda3\\envs\\tensorflow\\lib\\site-packages\\tensorflow\\python\\eager\\def_function.py:915\u001b[0m, in \u001b[0;36mFunction.__call__\u001b[1;34m(self, *args, **kwds)\u001b[0m\n\u001b[0;32m    912\u001b[0m compiler \u001b[39m=\u001b[39m \u001b[39m\"\u001b[39m\u001b[39mxla\u001b[39m\u001b[39m\"\u001b[39m \u001b[39mif\u001b[39;00m \u001b[39mself\u001b[39m\u001b[39m.\u001b[39m_jit_compile \u001b[39melse\u001b[39;00m \u001b[39m\"\u001b[39m\u001b[39mnonXla\u001b[39m\u001b[39m\"\u001b[39m\n\u001b[0;32m    914\u001b[0m \u001b[39mwith\u001b[39;00m OptionalXlaContext(\u001b[39mself\u001b[39m\u001b[39m.\u001b[39m_jit_compile):\n\u001b[1;32m--> 915\u001b[0m   result \u001b[39m=\u001b[39m \u001b[39mself\u001b[39;49m\u001b[39m.\u001b[39;49m_call(\u001b[39m*\u001b[39;49margs, \u001b[39m*\u001b[39;49m\u001b[39m*\u001b[39;49mkwds)\n\u001b[0;32m    917\u001b[0m new_tracing_count \u001b[39m=\u001b[39m \u001b[39mself\u001b[39m\u001b[39m.\u001b[39mexperimental_get_tracing_count()\n\u001b[0;32m    918\u001b[0m without_tracing \u001b[39m=\u001b[39m (tracing_count \u001b[39m==\u001b[39m new_tracing_count)\n",
      "File \u001b[1;32mc:\\Users\\ageng\\anaconda3\\envs\\tensorflow\\lib\\site-packages\\tensorflow\\python\\eager\\def_function.py:947\u001b[0m, in \u001b[0;36mFunction._call\u001b[1;34m(self, *args, **kwds)\u001b[0m\n\u001b[0;32m    944\u001b[0m   \u001b[39mself\u001b[39m\u001b[39m.\u001b[39m_lock\u001b[39m.\u001b[39mrelease()\n\u001b[0;32m    945\u001b[0m   \u001b[39m# In this case we have created variables on the first call, so we run the\u001b[39;00m\n\u001b[0;32m    946\u001b[0m   \u001b[39m# defunned version which is guaranteed to never create variables.\u001b[39;00m\n\u001b[1;32m--> 947\u001b[0m   \u001b[39mreturn\u001b[39;00m \u001b[39mself\u001b[39;49m\u001b[39m.\u001b[39;49m_stateless_fn(\u001b[39m*\u001b[39;49margs, \u001b[39m*\u001b[39;49m\u001b[39m*\u001b[39;49mkwds)  \u001b[39m# pylint: disable=not-callable\u001b[39;00m\n\u001b[0;32m    948\u001b[0m \u001b[39melif\u001b[39;00m \u001b[39mself\u001b[39m\u001b[39m.\u001b[39m_stateful_fn \u001b[39mis\u001b[39;00m \u001b[39mnot\u001b[39;00m \u001b[39mNone\u001b[39;00m:\n\u001b[0;32m    949\u001b[0m   \u001b[39m# Release the lock early so that multiple threads can perform the call\u001b[39;00m\n\u001b[0;32m    950\u001b[0m   \u001b[39m# in parallel.\u001b[39;00m\n\u001b[0;32m    951\u001b[0m   \u001b[39mself\u001b[39m\u001b[39m.\u001b[39m_lock\u001b[39m.\u001b[39mrelease()\n",
      "File \u001b[1;32mc:\\Users\\ageng\\anaconda3\\envs\\tensorflow\\lib\\site-packages\\tensorflow\\python\\eager\\function.py:2496\u001b[0m, in \u001b[0;36mFunction.__call__\u001b[1;34m(self, *args, **kwargs)\u001b[0m\n\u001b[0;32m   2493\u001b[0m \u001b[39mwith\u001b[39;00m \u001b[39mself\u001b[39m\u001b[39m.\u001b[39m_lock:\n\u001b[0;32m   2494\u001b[0m   (graph_function,\n\u001b[0;32m   2495\u001b[0m    filtered_flat_args) \u001b[39m=\u001b[39m \u001b[39mself\u001b[39m\u001b[39m.\u001b[39m_maybe_define_function(args, kwargs)\n\u001b[1;32m-> 2496\u001b[0m \u001b[39mreturn\u001b[39;00m graph_function\u001b[39m.\u001b[39;49m_call_flat(\n\u001b[0;32m   2497\u001b[0m     filtered_flat_args, captured_inputs\u001b[39m=\u001b[39;49mgraph_function\u001b[39m.\u001b[39;49mcaptured_inputs)\n",
      "File \u001b[1;32mc:\\Users\\ageng\\anaconda3\\envs\\tensorflow\\lib\\site-packages\\tensorflow\\python\\eager\\function.py:1862\u001b[0m, in \u001b[0;36mConcreteFunction._call_flat\u001b[1;34m(self, args, captured_inputs, cancellation_manager)\u001b[0m\n\u001b[0;32m   1858\u001b[0m possible_gradient_type \u001b[39m=\u001b[39m gradients_util\u001b[39m.\u001b[39mPossibleTapeGradientTypes(args)\n\u001b[0;32m   1859\u001b[0m \u001b[39mif\u001b[39;00m (possible_gradient_type \u001b[39m==\u001b[39m gradients_util\u001b[39m.\u001b[39mPOSSIBLE_GRADIENT_TYPES_NONE\n\u001b[0;32m   1860\u001b[0m     \u001b[39mand\u001b[39;00m executing_eagerly):\n\u001b[0;32m   1861\u001b[0m   \u001b[39m# No tape is watching; skip to running the function.\u001b[39;00m\n\u001b[1;32m-> 1862\u001b[0m   \u001b[39mreturn\u001b[39;00m \u001b[39mself\u001b[39m\u001b[39m.\u001b[39m_build_call_outputs(\u001b[39mself\u001b[39;49m\u001b[39m.\u001b[39;49m_inference_function\u001b[39m.\u001b[39;49mcall(\n\u001b[0;32m   1863\u001b[0m       ctx, args, cancellation_manager\u001b[39m=\u001b[39;49mcancellation_manager))\n\u001b[0;32m   1864\u001b[0m forward_backward \u001b[39m=\u001b[39m \u001b[39mself\u001b[39m\u001b[39m.\u001b[39m_select_forward_and_backward_functions(\n\u001b[0;32m   1865\u001b[0m     args,\n\u001b[0;32m   1866\u001b[0m     possible_gradient_type,\n\u001b[0;32m   1867\u001b[0m     executing_eagerly)\n\u001b[0;32m   1868\u001b[0m forward_function, args_with_tangents \u001b[39m=\u001b[39m forward_backward\u001b[39m.\u001b[39mforward()\n",
      "File \u001b[1;32mc:\\Users\\ageng\\anaconda3\\envs\\tensorflow\\lib\\site-packages\\tensorflow\\python\\eager\\function.py:499\u001b[0m, in \u001b[0;36m_EagerDefinedFunction.call\u001b[1;34m(self, ctx, args, cancellation_manager)\u001b[0m\n\u001b[0;32m    497\u001b[0m \u001b[39mwith\u001b[39;00m _InterpolateFunctionError(\u001b[39mself\u001b[39m):\n\u001b[0;32m    498\u001b[0m   \u001b[39mif\u001b[39;00m cancellation_manager \u001b[39mis\u001b[39;00m \u001b[39mNone\u001b[39;00m:\n\u001b[1;32m--> 499\u001b[0m     outputs \u001b[39m=\u001b[39m execute\u001b[39m.\u001b[39;49mexecute(\n\u001b[0;32m    500\u001b[0m         \u001b[39mstr\u001b[39;49m(\u001b[39mself\u001b[39;49m\u001b[39m.\u001b[39;49msignature\u001b[39m.\u001b[39;49mname),\n\u001b[0;32m    501\u001b[0m         num_outputs\u001b[39m=\u001b[39;49m\u001b[39mself\u001b[39;49m\u001b[39m.\u001b[39;49m_num_outputs,\n\u001b[0;32m    502\u001b[0m         inputs\u001b[39m=\u001b[39;49margs,\n\u001b[0;32m    503\u001b[0m         attrs\u001b[39m=\u001b[39;49mattrs,\n\u001b[0;32m    504\u001b[0m         ctx\u001b[39m=\u001b[39;49mctx)\n\u001b[0;32m    505\u001b[0m   \u001b[39melse\u001b[39;00m:\n\u001b[0;32m    506\u001b[0m     outputs \u001b[39m=\u001b[39m execute\u001b[39m.\u001b[39mexecute_with_cancellation(\n\u001b[0;32m    507\u001b[0m         \u001b[39mstr\u001b[39m(\u001b[39mself\u001b[39m\u001b[39m.\u001b[39msignature\u001b[39m.\u001b[39mname),\n\u001b[0;32m    508\u001b[0m         num_outputs\u001b[39m=\u001b[39m\u001b[39mself\u001b[39m\u001b[39m.\u001b[39m_num_outputs,\n\u001b[1;32m   (...)\u001b[0m\n\u001b[0;32m    511\u001b[0m         ctx\u001b[39m=\u001b[39mctx,\n\u001b[0;32m    512\u001b[0m         cancellation_manager\u001b[39m=\u001b[39mcancellation_manager)\n",
      "File \u001b[1;32mc:\\Users\\ageng\\anaconda3\\envs\\tensorflow\\lib\\site-packages\\tensorflow\\python\\eager\\execute.py:54\u001b[0m, in \u001b[0;36mquick_execute\u001b[1;34m(op_name, num_outputs, inputs, attrs, ctx, name)\u001b[0m\n\u001b[0;32m     52\u001b[0m \u001b[39mtry\u001b[39;00m:\n\u001b[0;32m     53\u001b[0m   ctx\u001b[39m.\u001b[39mensure_initialized()\n\u001b[1;32m---> 54\u001b[0m   tensors \u001b[39m=\u001b[39m pywrap_tfe\u001b[39m.\u001b[39;49mTFE_Py_Execute(ctx\u001b[39m.\u001b[39;49m_handle, device_name, op_name,\n\u001b[0;32m     55\u001b[0m                                       inputs, attrs, num_outputs)\n\u001b[0;32m     56\u001b[0m \u001b[39mexcept\u001b[39;00m core\u001b[39m.\u001b[39m_NotOkStatusException \u001b[39mas\u001b[39;00m e:\n\u001b[0;32m     57\u001b[0m   \u001b[39mif\u001b[39;00m name \u001b[39mis\u001b[39;00m \u001b[39mnot\u001b[39;00m \u001b[39mNone\u001b[39;00m:\n",
      "\u001b[1;31mKeyboardInterrupt\u001b[0m: "
     ]
    }
   ],
   "source": [
    "history = model.fit(train_dataset, \n",
    "                    steps_per_epoch=NUM_TRAIN_DATA//BATCH_SIZE,\n",
    "                    validation_data=val_dataset,\n",
    "                    validation_steps=5,\n",
    "                    epochs=EPOCHS,\n",
    "                    verbose=1)"
   ]
  }
 ],
 "metadata": {
  "kernelspec": {
   "display_name": "tensorflow",
   "language": "python",
   "name": "python3"
  },
  "language_info": {
   "codemirror_mode": {
    "name": "ipython",
    "version": 3
   },
   "file_extension": ".py",
   "mimetype": "text/x-python",
   "name": "python",
   "nbconvert_exporter": "python",
   "pygments_lexer": "ipython3",
   "version": "3.8.16"
  }
 },
 "nbformat": 4,
 "nbformat_minor": 2
}
