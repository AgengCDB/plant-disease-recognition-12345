{
 "cells": [
  {
   "cell_type": "markdown",
   "metadata": {},
   "source": [
    "##### Delete folder before starting"
   ]
  },
  {
   "cell_type": "code",
   "execution_count": 1,
   "metadata": {},
   "outputs": [],
   "source": [
    "# i asked gpt to write this code\n",
    "\n",
    "import shutil\n",
    "import os\n",
    "\n",
    "def delete_folder(folder_path):\n",
    "    if os.path.exists(folder_path):\n",
    "        try:\n",
    "            shutil.rmtree(folder_path)\n",
    "            print(f\"Folder '{folder_path}' deleted successfully.\")\n",
    "        except OSError as e:\n",
    "            print(f\"Error: {e}\")\n",
    "    else:\n",
    "        print(f\"Folder '{folder_path}' does not exist.\")"
   ]
  },
  {
   "cell_type": "code",
   "execution_count": 2,
   "metadata": {},
   "outputs": [
    {
     "name": "stdout",
     "output_type": "stream",
     "text": [
      "Folder 'Apple/train' deleted successfully.\n",
      "Folder 'Apple/val' deleted successfully.\n"
     ]
    }
   ],
   "source": [
    "# train\n",
    "folder_to_delete = \"Apple/train\"\n",
    "delete_folder(folder_to_delete)\n",
    "\n",
    "# val\n",
    "folder_to_delete = \"Apple/val\"\n",
    "delete_folder(folder_to_delete)"
   ]
  },
  {
   "cell_type": "markdown",
   "metadata": {},
   "source": [
    "# Code"
   ]
  },
  {
   "cell_type": "code",
   "execution_count": 3,
   "metadata": {},
   "outputs": [
    {
     "name": "stdout",
     "output_type": "stream",
     "text": [
      "['AlternariaBoltch', 'AppleScab', 'BlackRot', 'CedarAppleRust', 'Disease', 'Healthy', 'Rust']\n"
     ]
    }
   ],
   "source": [
    "import os \n",
    "dir = 'Apple' # this read fodler\n",
    "print(os.listdir(dir))"
   ]
  },
  {
   "cell_type": "code",
   "execution_count": 4,
   "metadata": {},
   "outputs": [
    {
     "data": {
      "text/plain": [
       "['AlternariaBoltch',\n",
       " 'AppleScab',\n",
       " 'BlackRot',\n",
       " 'CedarAppleRust',\n",
       " 'Disease',\n",
       " 'Healthy',\n",
       " 'Rust']"
      ]
     },
     "execution_count": 4,
     "metadata": {},
     "output_type": "execute_result"
    }
   ],
   "source": [
    "# labels from folder in directory yoooo\n",
    "labels = os.listdir(dir)\n",
    "labels"
   ]
  },
  {
   "cell_type": "code",
   "execution_count": 5,
   "metadata": {},
   "outputs": [],
   "source": [
    "# import\n",
    "import matplotlib.pyplot as plt\n",
    "import numpy as np\n",
    "import matplotlib.image as mpimg\n",
    "import scipy as sp\n",
    "import itertools\n",
    "import zipfile\n",
    "import cv2\n",
    "\n",
    "import tensorflow as tf\n",
    "from tensorflow.keras.models import Sequential\n",
    "from tensorflow.keras.layers import Dense, Flatten, GlobalAveragePooling2D, Conv2D, MaxPooling2D, MaxPool2D, Dropout\n",
    "from tensorflow.keras.preprocessing.image import ImageDataGenerator\n",
    "from tensorflow.keras.callbacks import ModelCheckpoint, EarlyStopping\n",
    "from tensorflow.keras.optimizers import RMSprop\n",
    "\n",
    "# m8 delete later, should check on it"
   ]
  },
  {
   "cell_type": "code",
   "execution_count": 6,
   "metadata": {},
   "outputs": [],
   "source": [
    "'''\n",
    "Abbreviation (so i don't need to write long name)\n",
    "\n",
    "AlternariaBoltch = boltch\n",
    "AppleScab = scab\n",
    "BlackRot = brot\n",
    "CedarAppleRust = carust\n",
    "Healthy = healthy\n",
    "Rust = rust\n",
    "'''\n",
    "\n",
    "boltch_dir = os.path.join(dir, 'AlternariaBoltch')\n",
    "scab_dir = os.path.join(dir, 'AppleScab')\n",
    "brot_dir = os.path.join(dir, 'BlackRot')\n",
    "carust_dir = os.path.join(dir, 'CedarAppleRust')\n",
    "healthy_dir = os.path.join(dir, 'Healthy')\n",
    "rust_dir = os.path.join(dir, 'Rust')\n",
    "\n",
    "boltch = os.listdir(boltch_dir)\n",
    "scab = os.listdir(scab_dir)\n",
    "brot = os.listdir(brot_dir)\n",
    "carust = os.listdir(carust_dir)\n",
    "healthy = os.listdir(healthy_dir)\n",
    "rust = os.listdir(rust_dir)"
   ]
  },
  {
   "cell_type": "code",
   "execution_count": 7,
   "metadata": {},
   "outputs": [],
   "source": [
    "import random\n",
    "import shutil\n",
    "\n",
    "# Function split\n",
    "def split_data(src, train_dst, val_dst, split_ratio=0.6):\n",
    "    files = os.listdir(src)\n",
    "    random.shuffle(files)\n",
    "\n",
    "    split_index = int(len(files) * split_ratio)\n",
    "\n",
    "    train_files = files[:split_index]\n",
    "    val_files = files[split_index:]\n",
    "\n",
    "    for file in train_files:\n",
    "        shutil.copy(os.path.join(src, file), os.path.join(train_dst, file))\n",
    "\n",
    "    for file in val_files:\n",
    "        shutil.copy(os.path.join(src, file), os.path.join(val_dst, file))"
   ]
  },
  {
   "cell_type": "code",
   "execution_count": 8,
   "metadata": {},
   "outputs": [
    {
     "data": {
      "text/plain": [
       "[]"
      ]
     },
     "execution_count": 8,
     "metadata": {},
     "output_type": "execute_result"
    }
   ],
   "source": [
    "train_dir = os.path.join(dir, 'train')\n",
    "val_dir = os.path.join(dir, 'val')\n",
    "\n",
    "# only use it once\n",
    "os.makedirs(train_dir, exist_ok=True)\n",
    "os.makedirs(val_dir, exist_ok=True)\n",
    "\n",
    "os.listdir('Apple/train')\n",
    "os.listdir('Apple/val')"
   ]
  },
  {
   "cell_type": "code",
   "execution_count": 9,
   "metadata": {},
   "outputs": [],
   "source": [
    "# only use it once\n",
    "for i in labels:\n",
    "    os.makedirs(os.path.join(train_dir, i), exist_ok=True)\n",
    "    os.makedirs(os.path.join(val_dir, i), exist_ok=True)"
   ]
  },
  {
   "cell_type": "code",
   "execution_count": 10,
   "metadata": {},
   "outputs": [],
   "source": [
    "# Splitting the data, i hope someone made a better code for this :)\n",
    "split_data(boltch_dir, os.path.join(train_dir, 'AlternariaBoltch'), os.path.join(val_dir, 'AlternariaBoltch'))\n",
    "split_data(scab_dir, os.path.join(train_dir, 'AppleScab'), os.path.join(val_dir, 'AppleScab'))\n",
    "split_data(brot_dir, os.path.join(train_dir, 'BlackRot'), os.path.join(val_dir, 'BlackRot'))\n",
    "split_data(carust_dir, os.path.join(train_dir, 'CedarAppleRust'), os.path.join(val_dir, 'CedarAppleRust'))\n",
    "split_data(healthy_dir, os.path.join(train_dir, 'Healthy'), os.path.join(val_dir, 'Healthy'))\n",
    "split_data(rust_dir, os.path.join(train_dir, 'Rust'), os.path.join(val_dir, 'Rust'))"
   ]
  },
  {
   "cell_type": "code",
   "execution_count": 11,
   "metadata": {},
   "outputs": [],
   "source": [
    "# ImageDataGenerator\n",
    "train_gen = ImageDataGenerator(rescale=1.0/256.0, \n",
    "                            zoom_range=0.4, \n",
    "                            rotation_range=30,\n",
    "                            horizontal_flip=True, \n",
    "                            vertical_flip=True, \n",
    "                            shear_range=0.3, \n",
    "                            fill_mode='nearest',\n",
    "                            width_shift_range=0.2, \n",
    "                            height_shift_range=0.2, \n",
    "                            validation_split=0.2)\n",
    "val_gen = ImageDataGenerator(rescale=1.0/256.0,\n",
    "                            validation_split=0.2)"
   ]
  },
  {
   "cell_type": "code",
   "execution_count": 12,
   "metadata": {},
   "outputs": [
    {
     "name": "stdout",
     "output_type": "stream",
     "text": [
      "Found 1702 images belonging to 7 classes.\n",
      "Found 225 images belonging to 7 classes.\n"
     ]
    }
   ],
   "source": [
    "train_dataset = train_gen.flow_from_directory(train_dir, \n",
    "                                            target_size=(256, 256), \n",
    "                                            color_mode=\"rgb\",\n",
    "                                            class_mode='categorical', \n",
    "                                            batch_size=32)\n",
    "val_dataset = val_gen.flow_from_directory(val_dir, \n",
    "                                        target_size=(256, 256), \n",
    "                                        color_mode=\"rgb\",\n",
    "                                        class_mode='categorical', \n",
    "                                        batch_size=32,\n",
    "                                        subset='validation')"
   ]
  },
  {
   "cell_type": "code",
   "execution_count": 13,
   "metadata": {},
   "outputs": [
    {
     "name": "stdout",
     "output_type": "stream",
     "text": [
      "{'AlternariaBoltch': 0, 'AppleScab': 1, 'BlackRot': 2, 'CedarAppleRust': 3, 'Disease': 4, 'Healthy': 5, 'Rust': 6}\n",
      "{'AlternariaBoltch': 0, 'AppleScab': 1, 'BlackRot': 2, 'CedarAppleRust': 3, 'Disease': 4, 'Healthy': 5, 'Rust': 6}\n"
     ]
    }
   ],
   "source": [
    "print(train_dataset.class_indices)\n",
    "print(val_dataset.class_indices)"
   ]
  },
  {
   "cell_type": "code",
   "execution_count": 14,
   "metadata": {},
   "outputs": [],
   "source": [
    "NUM_TRAIN_DATA = train_dataset.n\n",
    "NUM_VALID_DATA = val_dataset.n"
   ]
  },
  {
   "cell_type": "code",
   "execution_count": 15,
   "metadata": {},
   "outputs": [],
   "source": [
    "model = tf.keras.models.Sequential([\n",
    "    tf.keras.layers.Conv2D(filters=32, activation='relu', input_shape=(256, 256, 3), padding='same', kernel_size=(3, 3)),\n",
    "    tf.keras.layers.Conv2D(filters=32, activation='relu', padding='same', kernel_size=(3, 3)),\n",
    "    tf.keras.layers.MaxPool2D(pool_size=(2,2)),\n",
    "    tf.keras.layers.Conv2D(filters=64, activation='relu', padding='same', kernel_size=(3, 3)),\n",
    "    tf.keras.layers.Conv2D(filters=64, activation='relu', padding='same', kernel_size=(3, 3)),\n",
    "    tf.keras.layers.MaxPool2D(pool_size=(2,2)),\n",
    "    tf.keras.layers.Conv2D(filters=128, activation='relu', padding='same', kernel_size=(3, 3)),\n",
    "    tf.keras.layers.Conv2D(filters=128, activation='relu', padding='same', kernel_size=(3, 3)),\n",
    "    tf.keras.layers.MaxPool2D(pool_size=(2,2)),\n",
    "    tf.keras.layers.Conv2D(filters=256, activation='relu', padding='same', kernel_size=(3, 3)),\n",
    "    tf.keras.layers.Conv2D(filters=256, activation='relu', padding='same', kernel_size=(3, 3)),\n",
    "    tf.keras.layers.MaxPool2D(pool_size=(2,2)),\n",
    "    # Flatten\n",
    "    tf.keras.layers.Flatten(),\n",
    "    tf.keras.layers.Dense(units=256, activation='relu'),\n",
    "    tf.keras.layers.Dropout(0.1),\n",
    "    tf.keras.layers.Dense(units=128, activation='relu'),\n",
    "    tf.keras.layers.Dense(units=7, activation='softmax'),\n",
    "])\n",
    "\n",
    "monitor = EarlyStopping(monitor='val_accuracy',\n",
    "                        patience=2,\n",
    "                        verbose=1,\n",
    "                        mode='max',\n",
    "                        restore_best_weights=True)"
   ]
  },
  {
   "cell_type": "code",
   "execution_count": 16,
   "metadata": {},
   "outputs": [],
   "source": [
    "# don't use this one\n",
    "\n",
    "# model = Sequential()\n",
    "\n",
    "# model.add(Conv2D(16, kernel_size=3, activation='relu', input_shape=(256, 256, 3)))\n",
    "# model.add(MaxPool2D(2,2))\n",
    "# model.add(Dropout(0.25))\n",
    "# model.add(Conv2D(32, kernel_size=3, activation='relu'))\n",
    "# model.add(MaxPool2D(2,2))\n",
    "# model.add(Dropout(0.25))\n",
    "# model.add(Conv2D(64, kernel_size=3, activation='relu'))\n",
    "# model.add(MaxPool2D(2,2))\n",
    "# model.add(Dropout(0.25))\n",
    "# model.add(Conv2D(128, kernel_size=3, activation='relu'))\n",
    "# model.add(MaxPool2D(2,2))\n",
    "# model.add(Dropout(0.25))\n",
    "# model.add(Flatten())\n",
    "# model.add(Dense(512, activation='relu'))\n",
    "# model.add(Dense(7, activation='softmax'))\n",
    "\n",
    "# model.summary()"
   ]
  },
  {
   "cell_type": "code",
   "execution_count": 17,
   "metadata": {},
   "outputs": [
    {
     "name": "stdout",
     "output_type": "stream",
     "text": [
      "Model: \"sequential\"\n",
      "_________________________________________________________________\n",
      " Layer (type)                Output Shape              Param #   \n",
      "=================================================================\n",
      " conv2d (Conv2D)             (None, 256, 256, 32)      896       \n",
      "                                                                 \n",
      " conv2d_1 (Conv2D)           (None, 256, 256, 32)      9248      \n",
      "                                                                 \n",
      " max_pooling2d (MaxPooling2D  (None, 128, 128, 32)     0         \n",
      " )                                                               \n",
      "                                                                 \n",
      " conv2d_2 (Conv2D)           (None, 128, 128, 64)      18496     \n",
      "                                                                 \n",
      " conv2d_3 (Conv2D)           (None, 128, 128, 64)      36928     \n",
      "                                                                 \n",
      " max_pooling2d_1 (MaxPooling  (None, 64, 64, 64)       0         \n",
      " 2D)                                                             \n",
      "                                                                 \n",
      " conv2d_4 (Conv2D)           (None, 64, 64, 128)       73856     \n",
      "                                                                 \n",
      " conv2d_5 (Conv2D)           (None, 64, 64, 128)       147584    \n",
      "                                                                 \n",
      " max_pooling2d_2 (MaxPooling  (None, 32, 32, 128)      0         \n",
      " 2D)                                                             \n",
      "                                                                 \n",
      " conv2d_6 (Conv2D)           (None, 32, 32, 256)       295168    \n",
      "                                                                 \n",
      " conv2d_7 (Conv2D)           (None, 32, 32, 256)       590080    \n",
      "                                                                 \n",
      " max_pooling2d_3 (MaxPooling  (None, 16, 16, 256)      0         \n",
      " 2D)                                                             \n",
      "                                                                 \n",
      " flatten (Flatten)           (None, 65536)             0         \n",
      "                                                                 \n",
      " dense (Dense)               (None, 256)               16777472  \n",
      "                                                                 \n",
      " dropout (Dropout)           (None, 256)               0         \n",
      "                                                                 \n",
      " dense_1 (Dense)             (None, 128)               32896     \n",
      "                                                                 \n",
      " dense_2 (Dense)             (None, 7)                 903       \n",
      "                                                                 \n",
      "=================================================================\n",
      "Total params: 17,983,527\n",
      "Trainable params: 17,983,527\n",
      "Non-trainable params: 0\n",
      "_________________________________________________________________\n"
     ]
    }
   ],
   "source": [
    "model.compile(optimizer=RMSprop(learning_rate=0.001),\n",
    "              loss='categorical_crossentropy',\n",
    "              metrics=['accuracy'])\n",
    "model.summary()"
   ]
  },
  {
   "cell_type": "code",
   "execution_count": 18,
   "metadata": {},
   "outputs": [],
   "source": [
    "BATCH_SIZE = 32\n",
    "EPOCHS = 35"
   ]
  },
  {
   "cell_type": "code",
   "execution_count": 19,
   "metadata": {},
   "outputs": [
    {
     "name": "stdout",
     "output_type": "stream",
     "text": [
      "Epoch 1/35\n",
      "53/53 [==============================] - 207s 4s/step - loss: 1.9440 - accuracy: 0.4066 - val_loss: 1.5322 - val_accuracy: 0.4313\n",
      "Epoch 2/35\n",
      "53/53 [==============================] - 201s 4s/step - loss: 1.4617 - accuracy: 0.4713 - val_loss: 1.6012 - val_accuracy: 0.4750\n",
      "Epoch 3/35\n",
      "53/53 [==============================] - 200s 4s/step - loss: 1.4014 - accuracy: 0.4766 - val_loss: 1.3590 - val_accuracy: 0.5063\n",
      "Epoch 4/35\n",
      "53/53 [==============================] - 198s 4s/step - loss: 1.2962 - accuracy: 0.5030 - val_loss: 1.1476 - val_accuracy: 0.5625\n",
      "Epoch 5/35\n",
      "53/53 [==============================] - 198s 4s/step - loss: 1.2469 - accuracy: 0.5269 - val_loss: 1.1760 - val_accuracy: 0.5688\n",
      "Epoch 6/35\n",
      "53/53 [==============================] - 200s 4s/step - loss: 1.1620 - accuracy: 0.5635 - val_loss: 0.9099 - val_accuracy: 0.6750\n",
      "Epoch 7/35\n",
      "53/53 [==============================] - 201s 4s/step - loss: 1.1280 - accuracy: 0.5707 - val_loss: 1.0563 - val_accuracy: 0.6375\n",
      "Epoch 8/35\n",
      "53/53 [==============================] - 200s 4s/step - loss: 1.1184 - accuracy: 0.5890 - val_loss: 0.8994 - val_accuracy: 0.6375\n",
      "Epoch 9/35\n",
      "53/53 [==============================] - 200s 4s/step - loss: 1.0646 - accuracy: 0.5826 - val_loss: 0.9879 - val_accuracy: 0.6250\n",
      "Epoch 10/35\n",
      "53/53 [==============================] - 197s 4s/step - loss: 1.0288 - accuracy: 0.5976 - val_loss: 1.0962 - val_accuracy: 0.6500\n",
      "Epoch 11/35\n",
      "53/53 [==============================] - 196s 4s/step - loss: 0.9692 - accuracy: 0.6365 - val_loss: 0.6864 - val_accuracy: 0.7688\n",
      "Epoch 12/35\n",
      "53/53 [==============================] - 197s 4s/step - loss: 0.9737 - accuracy: 0.6467 - val_loss: 0.8320 - val_accuracy: 0.6438\n",
      "Epoch 13/35\n",
      "53/53 [==============================] - 196s 4s/step - loss: 0.9509 - accuracy: 0.6713 - val_loss: 0.7765 - val_accuracy: 0.7625\n",
      "Epoch 14/35\n",
      "53/53 [==============================] - 197s 4s/step - loss: 0.8093 - accuracy: 0.7066 - val_loss: 0.9009 - val_accuracy: 0.6687\n",
      "Epoch 15/35\n",
      "53/53 [==============================] - 196s 4s/step - loss: 0.7640 - accuracy: 0.7317 - val_loss: 0.5226 - val_accuracy: 0.8000\n",
      "Epoch 16/35\n",
      "53/53 [==============================] - 198s 4s/step - loss: 0.7317 - accuracy: 0.7317 - val_loss: 1.4175 - val_accuracy: 0.6250\n",
      "Epoch 17/35\n",
      "53/53 [==============================] - 198s 4s/step - loss: 0.7087 - accuracy: 0.7431 - val_loss: 0.5087 - val_accuracy: 0.7875\n",
      "Epoch 18/35\n",
      "53/53 [==============================] - 200s 4s/step - loss: 0.6395 - accuracy: 0.7807 - val_loss: 0.3928 - val_accuracy: 0.8750\n",
      "Epoch 19/35\n",
      "53/53 [==============================] - 196s 4s/step - loss: 0.5415 - accuracy: 0.8084 - val_loss: 0.7732 - val_accuracy: 0.6562\n",
      "Epoch 20/35\n",
      "53/53 [==============================] - 196s 4s/step - loss: 0.5802 - accuracy: 0.8018 - val_loss: 0.4213 - val_accuracy: 0.8062\n",
      "Epoch 21/35\n",
      "53/53 [==============================] - 197s 4s/step - loss: 0.5633 - accuracy: 0.8018 - val_loss: 0.3533 - val_accuracy: 0.8687\n",
      "Epoch 22/35\n",
      "53/53 [==============================] - 198s 4s/step - loss: 0.5206 - accuracy: 0.8353 - val_loss: 0.2619 - val_accuracy: 0.9000\n",
      "Epoch 23/35\n",
      "53/53 [==============================] - 198s 4s/step - loss: 0.6240 - accuracy: 0.8240 - val_loss: 0.4501 - val_accuracy: 0.8188\n",
      "Epoch 24/35\n",
      "53/53 [==============================] - 197s 4s/step - loss: 0.4491 - accuracy: 0.8509 - val_loss: 0.3594 - val_accuracy: 0.8250\n",
      "Epoch 25/35\n",
      "53/53 [==============================] - 196s 4s/step - loss: 0.4707 - accuracy: 0.8365 - val_loss: 0.2966 - val_accuracy: 0.8938\n",
      "Epoch 26/35\n",
      "53/53 [==============================] - 198s 4s/step - loss: 0.3775 - accuracy: 0.8725 - val_loss: 0.2149 - val_accuracy: 0.9187\n",
      "Epoch 27/35\n",
      "53/53 [==============================] - 197s 4s/step - loss: 0.3938 - accuracy: 0.8689 - val_loss: 0.1955 - val_accuracy: 0.9312\n",
      "Epoch 28/35\n",
      "53/53 [==============================] - 199s 4s/step - loss: 0.3916 - accuracy: 0.8838 - val_loss: 0.2604 - val_accuracy: 0.9250\n",
      "Epoch 29/35\n",
      "53/53 [==============================] - 198s 4s/step - loss: 0.3862 - accuracy: 0.8832 - val_loss: 0.1712 - val_accuracy: 0.9375\n",
      "Epoch 30/35\n",
      "53/53 [==============================] - 198s 4s/step - loss: 0.3605 - accuracy: 0.8754 - val_loss: 0.5138 - val_accuracy: 0.8313\n",
      "Epoch 31/35\n",
      "53/53 [==============================] - 200s 4s/step - loss: 0.3601 - accuracy: 0.8910 - val_loss: 0.3264 - val_accuracy: 0.8938\n",
      "Epoch 32/35\n",
      "53/53 [==============================] - 198s 4s/step - loss: 0.3198 - accuracy: 0.8988 - val_loss: 0.1586 - val_accuracy: 0.9500\n",
      "Epoch 33/35\n",
      "53/53 [==============================] - 199s 4s/step - loss: 0.3145 - accuracy: 0.9066 - val_loss: 0.3241 - val_accuracy: 0.9187\n",
      "Epoch 34/35\n",
      "53/53 [==============================] - 200s 4s/step - loss: 0.3085 - accuracy: 0.9060 - val_loss: 0.2425 - val_accuracy: 0.9125\n",
      "Epoch 35/35\n",
      "53/53 [==============================] - 201s 4s/step - loss: 0.2602 - accuracy: 0.9240 - val_loss: 0.2893 - val_accuracy: 0.8938\n"
     ]
    }
   ],
   "source": [
    "history = model.fit(train_dataset, \n",
    "                    steps_per_epoch=NUM_TRAIN_DATA//BATCH_SIZE,\n",
    "                    validation_data=val_dataset,\n",
    "                    validation_steps=5,\n",
    "                    epochs=EPOCHS,\n",
    "                    verbose=1)"
   ]
  },
  {
   "cell_type": "code",
   "execution_count": 20,
   "metadata": {},
   "outputs": [],
   "source": [
    "model.save('attempt_002.h5')"
   ]
  },
  {
   "cell_type": "code",
   "execution_count": 22,
   "metadata": {},
   "outputs": [
    {
     "data": {
      "image/png": "[encoded data removed]",
      "text/plain": [
       "<Figure size 640x480 with 1 Axes>"
      ]
     },
     "metadata": {},
     "output_type": "display_data"
    },
    {
     "data": {
      "image/png": "[encoded data removed]",
      "text/plain": [
       "<Figure size 640x480 with 1 Axes>"
      ]
     },
     "metadata": {},
     "output_type": "display_data"
    }
   ],
   "source": [
    "import matplotlib.pyplot as plt\n",
    "\n",
    "# Assuming 'history' is the object returned by model.fit()\n",
    "\n",
    "# Plot training & validation accuracy values\n",
    "plt.plot(history.history['accuracy'])\n",
    "plt.plot(history.history['val_accuracy'])\n",
    "plt.title('Model accuracy')\n",
    "plt.xlabel('Epoch')\n",
    "plt.ylabel('Accuracy')\n",
    "plt.legend(['Train', 'Validation'], loc='upper left')\n",
    "plt.show()\n",
    "\n",
    "plt.plot(history.history['loss'])\n",
    "plt.plot(history.history['val_loss'])\n",
    "plt.title('Model loss')\n",
    "plt.xlabel('Epoch')\n",
    "plt.ylabel('Loss')\n",
    "plt.legend(['Train', 'Validation'], loc='upper left')\n",
    "plt.show()"
   ]
  },
  {
   "cell_type": "code",
   "execution_count": null,
   "metadata": {},
   "outputs": [],
   "source": []
  }
 ],
 "metadata": {
  "kernelspec": {
   "display_name": "tensorflow",
   "language": "python",
   "name": "python3"
  },
  "language_info": {
   "codemirror_mode": {
    "name": "ipython",
    "version": 3
   },
   "file_extension": ".py",
   "mimetype": "text/x-python",
   "name": "python",
   "nbconvert_exporter": "python",
   "pygments_lexer": "ipython3",
   "version": "3.8.16"
  }
 },
 "nbformat": 4,
 "nbformat_minor": 2
}
