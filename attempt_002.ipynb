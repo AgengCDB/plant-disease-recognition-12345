{
 "cells": [
  {
   "cell_type": "markdown",
   "metadata": {},
   "source": [
    "##### Delete folder before starting"
   ]
  },
  {
   "cell_type": "code",
   "execution_count": 36,
   "metadata": {},
   "outputs": [],
   "source": [
    "# i asked gpt to write this code\n",
    "\n",
    "import shutil\n",
    "import os\n",
    "\n",
    "def delete_folder(folder_path):\n",
    "    if os.path.exists(folder_path):\n",
    "        try:\n",
    "            shutil.rmtree(folder_path)\n",
    "            print(f\"Folder '{folder_path}' deleted successfully.\")\n",
    "        except OSError as e:\n",
    "            print(f\"Error: {e}\")\n",
    "    else:\n",
    "        print(f\"Folder '{folder_path}' does not exist.\")"
   ]
  },
  {
   "cell_type": "code",
   "execution_count": 37,
   "metadata": {},
   "outputs": [
    {
     "name": "stdout",
     "output_type": "stream",
     "text": [
      "Folder 'Apple/train' deleted successfully.\n",
      "Folder 'Apple/val' deleted successfully.\n"
     ]
    }
   ],
   "source": [
    "# train\n",
    "folder_to_delete = \"Apple/train\"\n",
    "delete_folder(folder_to_delete)\n",
    "\n",
    "# val\n",
    "folder_to_delete = \"Apple/val\"\n",
    "delete_folder(folder_to_delete)"
   ]
  },
  {
   "cell_type": "markdown",
   "metadata": {},
   "source": [
    "# Code"
   ]
  },
  {
   "cell_type": "code",
   "execution_count": 38,
   "metadata": {},
   "outputs": [
    {
     "name": "stdout",
     "output_type": "stream",
     "text": [
      "['AlternariaBoltch', 'AppleScab', 'BlackRot', 'CedarAppleRust', 'Healthy', 'Rust']\n"
     ]
    }
   ],
   "source": [
    "import os \n",
    "dir = 'Apple' # this read fodler\n",
    "print(os.listdir(dir))"
   ]
  },
  {
   "cell_type": "code",
   "execution_count": 39,
   "metadata": {},
   "outputs": [
    {
     "data": {
      "text/plain": [
       "['AlternariaBoltch',\n",
       " 'AppleScab',\n",
       " 'BlackRot',\n",
       " 'CedarAppleRust',\n",
       " 'Healthy',\n",
       " 'Rust']"
      ]
     },
     "execution_count": 39,
     "metadata": {},
     "output_type": "execute_result"
    }
   ],
   "source": [
    "# labels from folder in directory yoooo\n",
    "labels = os.listdir(dir)\n",
    "labels"
   ]
  },
  {
   "cell_type": "code",
   "execution_count": 40,
   "metadata": {},
   "outputs": [],
   "source": [
    "# import\n",
    "import matplotlib.pyplot as plt\n",
    "import numpy as np\n",
    "import matplotlib.image as mpimg\n",
    "import scipy as sp\n",
    "import itertools\n",
    "import zipfile\n",
    "import cv2\n",
    "\n",
    "import tensorflow as tf\n",
    "from tensorflow.keras.models import Sequential\n",
    "from tensorflow.keras.layers import Dense, Flatten, GlobalAveragePooling2D, Conv2D, MaxPooling2D\n",
    "from tensorflow.keras.preprocessing.image import ImageDataGenerator\n",
    "from tensorflow.keras.callbacks import ModelCheckpoint, EarlyStopping\n",
    "\n",
    "# m8 delete later, should check on it"
   ]
  },
  {
   "cell_type": "code",
   "execution_count": 41,
   "metadata": {},
   "outputs": [],
   "source": [
    "'''\n",
    "Abbreviation (so i don't need to write long name)\n",
    "\n",
    "AlternariaBoltch = boltch\n",
    "AppleScab = scab\n",
    "BlackRot = brot\n",
    "CedarAppleRust = carust\n",
    "Healthy = healthy\n",
    "Rust = rust\n",
    "'''\n",
    "\n",
    "boltch_dir = os.path.join(dir, 'AlternariaBoltch')\n",
    "scab_dir = os.path.join(dir, 'AppleScab')\n",
    "brot_dir = os.path.join(dir, 'BlackRot')\n",
    "carust_dir = os.path.join(dir, 'CedarAppleRust')\n",
    "healthy_dir = os.path.join(dir, 'Healthy')\n",
    "rust_dir = os.path.join(dir, 'Rust')\n",
    "\n",
    "boltch = os.listdir(boltch_dir)\n",
    "scab = os.listdir(scab_dir)\n",
    "brot = os.listdir(brot_dir)\n",
    "carust = os.listdir(carust_dir)\n",
    "healthy = os.listdir(healthy_dir)\n",
    "rust = os.listdir(rust_dir)"
   ]
  },
  {
   "cell_type": "code",
   "execution_count": 42,
   "metadata": {},
   "outputs": [],
   "source": [
    "import random\n",
    "import shutil\n",
    "\n",
    "# Function split\n",
    "def split_data(src, train_dst, val_dst, split_ratio=0.6):\n",
    "    files = os.listdir(src)\n",
    "    random.shuffle(files)\n",
    "\n",
    "    split_index = int(len(files) * split_ratio)\n",
    "\n",
    "    train_files = files[:split_index]\n",
    "    val_files = files[split_index:]\n",
    "\n",
    "    for file in train_files:\n",
    "        shutil.copy(os.path.join(src, file), os.path.join(train_dst, file))\n",
    "\n",
    "    for file in val_files:\n",
    "        shutil.copy(os.path.join(src, file), os.path.join(val_dst, file))"
   ]
  },
  {
   "cell_type": "code",
   "execution_count": 43,
   "metadata": {},
   "outputs": [],
   "source": [
    "train_dir = os.path.join(dir, 'train')\n",
    "val_dir = os.path.join(dir, 'val')\n",
    "\n",
    "# only use it once\n",
    "os.makedirs(train_dir, exist_ok=True)\n",
    "os.makedirs(val_dir, exist_ok=True)"
   ]
  },
  {
   "cell_type": "code",
   "execution_count": 44,
   "metadata": {},
   "outputs": [],
   "source": [
    "# only use it once\n",
    "for i in labels:\n",
    "    os.makedirs(os.path.join(train_dir, i), exist_ok=True)\n",
    "    os.makedirs(os.path.join(val_dir, i), exist_ok=True)"
   ]
  },
  {
   "cell_type": "code",
   "execution_count": 45,
   "metadata": {},
   "outputs": [],
   "source": [
    "# Splitting the data, i hope someone made a better code for this :)\n",
    "split_data(boltch_dir, os.path.join(train_dir, 'AlternariaBoltch'), os.path.join(val_dir, 'AlternariaBoltch'))\n",
    "split_data(scab_dir, os.path.join(train_dir, 'AppleScab'), os.path.join(val_dir, 'AppleScab'))\n",
    "split_data(brot_dir, os.path.join(train_dir, 'BlackRot'), os.path.join(val_dir, 'BlackRot'))\n",
    "split_data(carust_dir, os.path.join(train_dir, 'CedarAppleRust'), os.path.join(val_dir, 'CedarAppleRust'))\n",
    "split_data(healthy_dir, os.path.join(train_dir, 'Healthy'), os.path.join(val_dir, 'Healthy'))\n",
    "split_data(rust_dir, os.path.join(train_dir, 'Rust'), os.path.join(val_dir, 'Rust'))"
   ]
  },
  {
   "cell_type": "code",
   "execution_count": 46,
   "metadata": {},
   "outputs": [],
   "source": [
    "# ImageDataGenerator\n",
    "train_gen = ImageDataGenerator(rescale=1.0/256.0, \n",
    "                            zoom_range=0.4, \n",
    "                            rotation_range=30,\n",
    "                            horizontal_flip=True, \n",
    "                            vertical_flip=True, \n",
    "                            shear_range=0.3, \n",
    "                            fill_mode='nearest',\n",
    "                            width_shift_range=0.2, \n",
    "                            height_shift_range=0.2, \n",
    "                            validation_split=0.2)\n",
    "val_gen = ImageDataGenerator(rescale=1.0/256.0)"
   ]
  },
  {
   "cell_type": "code",
   "execution_count": 47,
   "metadata": {},
   "outputs": [
    {
     "name": "stdout",
     "output_type": "stream",
     "text": [
      "Found 1702 images belonging to 6 classes.\n",
      "Found 1139 images belonging to 6 classes.\n"
     ]
    }
   ],
   "source": [
    "train_dataset = train_gen.flow_from_directory(train_dir, \n",
    "                                            target_size=(256, 256), \n",
    "                                            color_mode=\"rgb\",\n",
    "                                            class_mode='binary', \n",
    "                                            batch_size=32)\n",
    "val_dataset = val_gen.flow_from_directory(val_dir, \n",
    "                                        target_size=(256, 256), \n",
    "                                        color_mode=\"rgb\",\n",
    "                                        class_mode='binary', \n",
    "                                        batch_size=32)"
   ]
  },
  {
   "cell_type": "code",
   "execution_count": 52,
   "metadata": {},
   "outputs": [
    {
     "name": "stdout",
     "output_type": "stream",
     "text": [
      "{'AlternariaBoltch': 0, 'AppleScab': 1, 'BlackRot': 2, 'CedarAppleRust': 3, 'Healthy': 4, 'Rust': 5}\n",
      "{'AlternariaBoltch': 0, 'AppleScab': 1, 'BlackRot': 2, 'CedarAppleRust': 3, 'Healthy': 4, 'Rust': 5}\n"
     ]
    }
   ],
   "source": [
    "print(train_dataset.class_indices)\n",
    "print(val_dataset.class_indices)"
   ]
  }
 ],
 "metadata": {
  "kernelspec": {
   "display_name": "tensorflow",
   "language": "python",
   "name": "python3"
  },
  "language_info": {
   "codemirror_mode": {
    "name": "ipython",
    "version": 3
   },
   "file_extension": ".py",
   "mimetype": "text/x-python",
   "name": "python",
   "nbconvert_exporter": "python",
   "pygments_lexer": "ipython3",
   "version": "3.8.16"
  }
 },
 "nbformat": 4,
 "nbformat_minor": 2
}
