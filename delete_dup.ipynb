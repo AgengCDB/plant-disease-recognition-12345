{
 "cells": [
  {
   "cell_type": "code",
   "execution_count": 3,
   "metadata": {},
   "outputs": [],
   "source": [
    "import os\n",
    "import numpy as np\n",
    "from PIL import Image\n",
    "\n",
    "def load_and_save_dataset(folder_path, save_path):\n",
    "    images = []\n",
    "    \n",
    "    # Ensure the save_path directory exists or create it\n",
    "    os.makedirs(save_path, exist_ok=True)\n",
    "\n",
    "    for root, _, files in os.walk(folder_path):\n",
    "        for i, file in enumerate(files):\n",
    "            if file.lower().endswith(('.jpg', '.png', '.jpeg')):\n",
    "                image_path = os.path.join(root, file)\n",
    "                image = Image.open(image_path)\n",
    "                image = np.array(image)\n",
    "                images.append(image)\n",
    "\n",
    "                if (i + 1) % 13 == 0:\n",
    "                    # Save the first image and delete the rest\n",
    "                    save_image_path = os.path.join(save_path, file)\n",
    "                    Image.fromarray(images[0]).save(save_image_path)\n",
    "                    for j in range(1, 13):\n",
    "                        os.remove(os.path.join(root, files[i - j]))\n",
    "\n",
    "                    # Clear the images list for the next batch\n",
    "                    images.clear()\n",
    "\n",
    "    # If there are remaining images after the loop, save the last batch\n",
    "    if images:\n",
    "        save_image_path = os.path.join(save_path, files[-1])\n",
    "        Image.fromarray(images[0]).save(save_image_path)\n",
    "\n",
    "if __name__ == '__main__':\n",
    "    folder_path = 'Plant disease dataset\\Plant disease dataset\\Apple_disease'\n",
    "    save_path = 'Plant disease dataset\\Plant disease dataset\\Apple'\n",
    "    \n",
    "    load_and_save_dataset(folder_path, save_path)"
   ]
  },
  {
   "cell_type": "code",
   "execution_count": 4,
   "metadata": {},
   "outputs": [],
   "source": [
    "if __name__ == '__main__':\n",
    "    folder_path = 'Plant disease dataset\\Plant disease dataset\\Apple_healthy'\n",
    "    save_path = 'Plant disease dataset\\Plant disease dataset\\Apple'\n",
    "    \n",
    "    load_and_save_dataset(folder_path, save_path)"
   ]
  }
 ],
 "metadata": {
  "kernelspec": {
   "display_name": "tensorflow",
   "language": "python",
   "name": "python3"
  },
  "language_info": {
   "codemirror_mode": {
    "name": "ipython",
    "version": 3
   },
   "file_extension": ".py",
   "mimetype": "text/x-python",
   "name": "python",
   "nbconvert_exporter": "python",
   "pygments_lexer": "ipython3",
   "version": "3.8.16"
  }
 },
 "nbformat": 4,
 "nbformat_minor": 2
}
