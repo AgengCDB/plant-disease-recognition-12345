{
 "cells": [
  {
   "cell_type": "code",
   "execution_count": 2,
   "metadata": {},
   "outputs": [
    {
     "name": "stdout",
     "output_type": "stream",
     "text": [
      "1/1 [==============================] - 0s 286ms/step\n",
      "The predicted class index is: 0\n",
      "The predicted class label is: AlternariaBoltch\n"
     ]
    }
   ],
   "source": [
    "from tensorflow.keras.models import load_model\n",
    "from tensorflow.keras.preprocessing import image\n",
    "import numpy as np\n",
    "\n",
    "# Load the saved model\n",
    "loaded_model = load_model('attempt_002.h5')\n",
    "\n",
    "# Load an image for prediction\n",
    "img_path = 'Apple\\AlternariaBoltch\\AlternariaBoltch_000961.jpg'\n",
    "img = image.load_img(img_path, target_size=(256, 256))  # Make sure to adjust target_size according to your model's input size\n",
    "img_array = image.img_to_array(img)\n",
    "img_array = np.expand_dims(img_array, axis=0)\n",
    "\n",
    "# Normalize the input data if necessary\n",
    "# ...\n",
    "\n",
    "# Make a prediction\n",
    "predictions = loaded_model.predict(img_array)\n",
    "\n",
    "# You might need to decode the predictions depending on your model's output format\n",
    "# ...\n",
    "\n",
    "labels = ['AlternariaBoltch',\n",
    "            'AppleScab',\n",
    "            'BlackRot',\n",
    "            'CedarAppleRust',\n",
    "            'Healthy',\n",
    "            'Rust']\n",
    "\n",
    "# Assuming 'predictions' is your model's output\n",
    "predicted_class_index = np.argmax(predictions)\n",
    "predicted_class_label = labels[predicted_class_index]\n",
    "\n",
    "print(f\"The predicted class index is: {predicted_class_index}\")\n",
    "print(f\"The predicted class label is: {predicted_class_label}\")"
   ]
  }
 ],
 "metadata": {
  "kernelspec": {
   "display_name": "tensorflow",
   "language": "python",
   "name": "python3"
  },
  "language_info": {
   "codemirror_mode": {
    "name": "ipython",
    "version": 3
   },
   "file_extension": ".py",
   "mimetype": "text/x-python",
   "name": "python",
   "nbconvert_exporter": "python",
   "pygments_lexer": "ipython3",
   "version": "3.8.16"
  }
 },
 "nbformat": 4,
 "nbformat_minor": 2
}
